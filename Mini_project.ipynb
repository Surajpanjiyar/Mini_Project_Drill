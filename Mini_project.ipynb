{
  "nbformat": 4,
  "nbformat_minor": 0,
  "metadata": {
    "colab": {
      "provenance": [],
      "authorship_tag": "ABX9TyNKljdTqrvpQJ+NZGtDA262",
      "include_colab_link": true
    },
    "kernelspec": {
      "name": "python3",
      "display_name": "Python 3"
    },
    "language_info": {
      "name": "python"
    }
  },
  "cells": [
    {
      "cell_type": "markdown",
      "metadata": {
        "id": "view-in-github",
        "colab_type": "text"
      },
      "source": [
        "<a href=\"https://colab.research.google.com/github/Surajpanjiyar/Mini_Project_Drill/blob/main/Mini_project.ipynb\" target=\"_parent\"><img src=\"https://colab.research.google.com/assets/colab-badge.svg\" alt=\"Open In Colab\"/></a>"
      ]
    },
    {
      "cell_type": "code",
      "execution_count": 2,
      "metadata": {
        "colab": {
          "base_uri": "https://localhost:8080/"
        },
        "id": "xY85EkOIF09R",
        "outputId": "fbb91835-f3e3-45e0-b013-d85fd387b071"
      },
      "outputs": [
        {
          "output_type": "stream",
          "name": "stdout",
          "text": [
            "Deposited $500 into Checking Account. New balance: $1500\n",
            "Withdrew $700 from Checking Account. New balance: $800\n",
            "Insufficient funds.\n",
            "Deposited $1000 into Savings Account. New balance: $6000\n",
            "Withdrew $2000 from Savings Account. New balance: $4000\n",
            "Deposited $1500 into Business Account. New balance: $3500\n",
            "Withdrew $3000 from Business Account. New balance: $500\n",
            "Insufficient funds.\n"
          ]
        }
      ],
      "source": [
        "# Bank Account Manager - Create a class called Account which will be an abstract class\n",
        "# for three other classes called CheckingAccount, SavingsAccount and BusinessAccount.\n",
        "# Manage credits and debits from these accounts through an ATM style program.\n",
        "\n",
        "\n",
        "from abc import ABC, abstractmethod\n",
        "\n",
        "class Account(ABC):\n",
        "    def __init__(self, account_number, balance=0.0):\n",
        "        self.account_number = account_number\n",
        "        self.balance = balance\n",
        "\n",
        "    @abstractmethod\n",
        "    def deposit(self, amount):\n",
        "        pass\n",
        "\n",
        "    @abstractmethod\n",
        "    def withdraw(self, amount):\n",
        "        pass\n",
        "\n",
        "    def get_balance(self):\n",
        "        return self.balance\n",
        "\n",
        "class CheckingAccount(Account):\n",
        "    def __init__(self, account_number, balance=0.0, overdraft_limit=100.0):\n",
        "        super().__init__(account_number, balance)\n",
        "        self.overdraft_limit = overdraft_limit\n",
        "\n",
        "    def deposit(self, amount):\n",
        "        if amount > 0:\n",
        "            self.balance += amount\n",
        "            print(f\"Deposited ${amount} into Checking Account. New balance: ${self.balance}\")\n",
        "        else:\n",
        "            print(\"Invalid deposit amount.\")\n",
        "\n",
        "    def withdraw(self, amount):\n",
        "        if amount > 0:\n",
        "            if self.balance + self.overdraft_limit >= amount:\n",
        "                self.balance -= amount\n",
        "                print(f\"Withdrew ${amount} from Checking Account. New balance: ${self.balance}\")\n",
        "            else:\n",
        "                print(\"Insufficient funds.\")\n",
        "        else:\n",
        "            print(\"Invalid withdrawal amount.\")\n",
        "\n",
        "class SavingsAccount(Account):\n",
        "    def __init__(self, account_number, balance=0.0, interest_rate=0.03):\n",
        "        super().__init__(account_number, balance)\n",
        "        self.interest_rate = interest_rate\n",
        "\n",
        "    def deposit(self, amount):\n",
        "        if amount > 0:\n",
        "            self.balance += amount\n",
        "            print(f\"Deposited ${amount} into Savings Account. New balance: ${self.balance}\")\n",
        "        else:\n",
        "            print(\"Invalid deposit amount.\")\n",
        "\n",
        "    def withdraw(self, amount):\n",
        "        if amount > 0:\n",
        "            if self.balance >= amount:\n",
        "                self.balance -= amount\n",
        "                print(f\"Withdrew ${amount} from Savings Account. New balance: ${self.balance}\")\n",
        "            else:\n",
        "                print(\"Insufficient funds.\")\n",
        "        else:\n",
        "            print(\"Invalid withdrawal amount.\")\n",
        "\n",
        "class BusinessAccount(Account):\n",
        "    def __init__(self, account_number, balance=0.0, credit_limit=5000.0):\n",
        "        super().__init__(account_number, balance)\n",
        "        self.credit_limit = credit_limit\n",
        "\n",
        "    def deposit(self, amount):\n",
        "        if amount > 0:\n",
        "            self.balance += amount\n",
        "            print(f\"Deposited ${amount} into Business Account. New balance: ${self.balance}\")\n",
        "        else:\n",
        "            print(\"Invalid deposit amount.\")\n",
        "\n",
        "    def withdraw(self, amount):\n",
        "        if amount > 0:\n",
        "            if self.balance + self.credit_limit >= amount:\n",
        "                self.balance -= amount\n",
        "                print(f\"Withdrew ${amount} from Business Account. New balance: ${self.balance}\")\n",
        "            else:\n",
        "                print(\"Insufficient funds.\")\n",
        "        else:\n",
        "            print(\"Invalid withdrawal amount.\")\n",
        "\n",
        "# Sample usage\n",
        "if __name__ == \"__main__\":\n",
        "    checking = CheckingAccount(\"CHK123\", 1000, 200)\n",
        "    savings = SavingsAccount(\"SAV456\", 5000, 0.05)\n",
        "    business = BusinessAccount(\"BUS789\", 2000, 10000)\n",
        "\n",
        "    checking.deposit(500)\n",
        "    checking.withdraw(700)\n",
        "    checking.withdraw(1500)\n",
        "\n",
        "    savings.deposit(1000)\n",
        "    savings.withdraw(2000)\n",
        "\n",
        "    business.deposit(1500)\n",
        "    business.withdraw(3000)\n",
        "    business.withdraw(12000)\n"
      ]
    }
  ]
}